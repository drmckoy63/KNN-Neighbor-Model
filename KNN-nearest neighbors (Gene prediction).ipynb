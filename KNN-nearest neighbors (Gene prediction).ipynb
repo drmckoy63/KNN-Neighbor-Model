{
 "cells": [
  {
   "cell_type": "markdown",
   "id": "80472933",
   "metadata": {},
   "source": [
    "# KNN-Neighbor: Using Gene Dataset for Cancer Predictions"
   ]
  },
  {
   "cell_type": "code",
   "execution_count": 39,
   "id": "6ebbad59",
   "metadata": {},
   "outputs": [],
   "source": [
    "import math \n",
    "import numpy as np\n",
    "import pandas as pd\n",
    "from sklearn import metrics\n",
    "import matplotlib.pyplot as plt\n",
    "from sklearn import preprocessing\n",
    "from sklearn.cluster import KMeans\n",
    "from sklearn.metrics import confusion_matrix\n",
    "from sklearn.model_selection import GridSearchCV\n",
    "from sklearn.neighbors import KNeighborsClassifier\n",
    "from sklearn.model_selection import train_test_split\n",
    "from sklearn.metrics import classification_report, accuracy_score, plot_confusion_matrix"
   ]
  },
  {
   "cell_type": "code",
   "execution_count": 3,
   "id": "e72a2dc7",
   "metadata": {},
   "outputs": [],
   "source": [
    "x = pd.read_csv('gene_expression.csv')"
   ]
  },
  {
   "cell_type": "code",
   "execution_count": 4,
   "id": "2a89d79c",
   "metadata": {},
   "outputs": [
    {
     "data": {
      "text/html": [
       "<div>\n",
       "<style scoped>\n",
       "    .dataframe tbody tr th:only-of-type {\n",
       "        vertical-align: middle;\n",
       "    }\n",
       "\n",
       "    .dataframe tbody tr th {\n",
       "        vertical-align: top;\n",
       "    }\n",
       "\n",
       "    .dataframe thead th {\n",
       "        text-align: right;\n",
       "    }\n",
       "</style>\n",
       "<table border=\"1\" class=\"dataframe\">\n",
       "  <thead>\n",
       "    <tr style=\"text-align: right;\">\n",
       "      <th></th>\n",
       "      <th>Gene One</th>\n",
       "      <th>Gene Two</th>\n",
       "      <th>Cancer</th>\n",
       "    </tr>\n",
       "  </thead>\n",
       "  <tbody>\n",
       "    <tr>\n",
       "      <th>0</th>\n",
       "      <td>4.3</td>\n",
       "      <td>3.9</td>\n",
       "      <td>1</td>\n",
       "    </tr>\n",
       "    <tr>\n",
       "      <th>1</th>\n",
       "      <td>2.5</td>\n",
       "      <td>6.3</td>\n",
       "      <td>0</td>\n",
       "    </tr>\n",
       "    <tr>\n",
       "      <th>2</th>\n",
       "      <td>5.7</td>\n",
       "      <td>3.9</td>\n",
       "      <td>1</td>\n",
       "    </tr>\n",
       "    <tr>\n",
       "      <th>3</th>\n",
       "      <td>6.1</td>\n",
       "      <td>6.2</td>\n",
       "      <td>0</td>\n",
       "    </tr>\n",
       "    <tr>\n",
       "      <th>4</th>\n",
       "      <td>7.4</td>\n",
       "      <td>3.4</td>\n",
       "      <td>1</td>\n",
       "    </tr>\n",
       "  </tbody>\n",
       "</table>\n",
       "</div>"
      ],
      "text/plain": [
       "   Gene One  Gene Two  Cancer\n",
       "0       4.3       3.9       1\n",
       "1       2.5       6.3       0\n",
       "2       5.7       3.9       1\n",
       "3       6.1       6.2       0\n",
       "4       7.4       3.4       1"
      ]
     },
     "execution_count": 4,
     "metadata": {},
     "output_type": "execute_result"
    }
   ],
   "source": [
    "x.head()"
   ]
  },
  {
   "cell_type": "code",
   "execution_count": 5,
   "id": "34216fe3",
   "metadata": {},
   "outputs": [
    {
     "data": {
      "text/plain": [
       "(3000, 3)"
      ]
     },
     "execution_count": 5,
     "metadata": {},
     "output_type": "execute_result"
    }
   ],
   "source": [
    "x.shape"
   ]
  },
  {
   "cell_type": "code",
   "execution_count": 6,
   "id": "23413026",
   "metadata": {},
   "outputs": [
    {
     "name": "stdout",
     "output_type": "stream",
     "text": [
      "<class 'pandas.core.frame.DataFrame'>\n",
      "RangeIndex: 3000 entries, 0 to 2999\n",
      "Data columns (total 3 columns):\n",
      " #   Column    Non-Null Count  Dtype  \n",
      "---  ------    --------------  -----  \n",
      " 0   Gene One  3000 non-null   float64\n",
      " 1   Gene Two  3000 non-null   float64\n",
      " 2   Cancer    3000 non-null   int64  \n",
      "dtypes: float64(2), int64(1)\n",
      "memory usage: 70.4 KB\n"
     ]
    }
   ],
   "source": [
    "x.info()"
   ]
  },
  {
   "cell_type": "markdown",
   "id": "34b1bd80",
   "metadata": {},
   "source": [
    "# 1"
   ]
  },
  {
   "cell_type": "code",
   "execution_count": 7,
   "id": "86259a26",
   "metadata": {},
   "outputs": [],
   "source": [
    "# Training Dataset for X & y value \n",
    "\n",
    "X = x.drop('Cancer', axis=1)\n",
    "\n",
    "y = x.Cancer \n",
    "\n",
    "X_train, X_test, y_train, y_test = train_test_split(X, y, test_size = 0.2, random_state=42)\n",
    "  \n",
    "knn = KNeighborsClassifier(n_neighbors=7)\n",
    "\n"
   ]
  },
  {
   "cell_type": "markdown",
   "id": "8995ca55",
   "metadata": {},
   "source": [
    "The dataset x is split into features (X) and the target variable (y). The features X are obtained by dropping the Cancer column from the dataset, while the target variable y is assigned the Cancer column, which contains the labels to be predicted.\n",
    "\n",
    "The dataset is then split into training and testing subsets using the train_test_split function, with 80% of the data allocated for training the model and 20% reserved for testing its performance. The parameter random_state=42 ensures reproducibility of the split.\n",
    "\n",
    "Finally, a k-Nearest Neighbors (k-NN) classifier is initialized with n_neighbors=7, meaning the model will classify a new data point based on the majority class of its 7 nearest neighbors in the feature space. This sets the stage for training the k-NN model and using it to predict the target variable."
   ]
  },
  {
   "cell_type": "code",
   "execution_count": 32,
   "id": "c859a38e",
   "metadata": {},
   "outputs": [
    {
     "name": "stdout",
     "output_type": "stream",
     "text": [
      "Knn-nearest is:  0.925\n"
     ]
    }
   ],
   "source": [
    "# Using the Grid Search CV for Accuracy \n",
    "\n",
    "knn = KNeighborsClassifier(n_neighbors=3)\n",
    "\n",
    "# Train the model using the training sets for Knn-modeling \n",
    "knn.fit(X_train, y_train)\n",
    "\n",
    "# Calculate the accuracy of the model\n",
    "print(\"Knn-nearest is: \",knn.score(X_test, y_test))\n",
    "\n",
    "# Here X_test, y_test are the test data points\n",
    "predictions = knn.predict(X_test)"
   ]
  },
  {
   "cell_type": "markdown",
   "id": "f5f1c497",
   "metadata": {},
   "source": [
    "This code implements a K-Nearest Neighbors (KNN) classification model to predict whether a person has heart disease. First, an instance of the `KNeighborsClassifier` is created with the number of neighbors (`n_neighbors`) set to 3, meaning the model will classify each test data point based on the majority class among its three closest neighbors in the feature space. The model is then trained using the `fit` method, which takes the training data (`X_train` and `y_train`) as input to learn the relationships between the features and target variable.\n",
    "\n",
    "After training, the model's accuracy is calculated using the `score` method, which evaluates the model's performance on the test dataset (`X_test` and `y_test`). This accuracy score represents the proportion of correct predictions made by the model. The output indicates that the model achieved an accuracy of 0.925, or 92.5%, meaning it correctly classified 92.5% of the test data points. \n",
    "\n",
    "Finally, the `predict` method is used to generate predictions for the test dataset (`X_test`), allowing further analysis or evaluation of the model's classification results. This high accuracy demonstrates the model's effectiveness in predicting heart disease based on the given dataset."
   ]
  },
  {
   "cell_type": "code",
   "execution_count": 9,
   "id": "40a0f179",
   "metadata": {},
   "outputs": [
    {
     "name": "stdout",
     "output_type": "stream",
     "text": [
      "Fitting 10 folds for each of 30 candidates, totalling 300 fits\n"
     ]
    }
   ],
   "source": [
    "# Knn-Neighbor for training dataset \n",
    "\n",
    "k_range = list(range(1, 31))\n",
    "param_grid = dict(n_neighbors=k_range)\n",
    "  \n",
    "# defining parameter range\n",
    "grid = GridSearchCV(knn, param_grid, cv=10, scoring='accuracy', return_train_score=False,verbose=1)\n",
    "  \n",
    "# fitting the model for grid search\n",
    "grid_search=grid.fit(X_train, y_train)"
   ]
  },
  {
   "cell_type": "markdown",
   "id": "6e505ecf",
   "metadata": {},
   "source": [
    "This code performs hyperparameter tuning for a k-Nearest Neighbors (k-NN) classification model using grid search with cross-validation. The parameter being optimized is the number of neighbors (`n_neighbors`), which determines how many data points the model considers when making predictions. A range of values from 1 to 30 is defined for `n_neighbors`, stored in the variable `k_range`, and then organized into a dictionary (`param_grid`) to be used in the grid search.\n",
    "\n",
    "The `GridSearchCV` function is used to systematically evaluate the model's performance for each value of `n_neighbors` by splitting the training data (`X_train` and `y_train`) into ten folds (`cv=10`) for cross-validation. The `scoring='accuracy'` parameter ensures that model accuracy is used as the evaluation metric. The grid search runs with `verbose=1`, providing detailed output during execution, and does not retain training scores (`return_train_score=False`).\n",
    "\n",
    "Finally, the `grid.fit` method trains and evaluates the k-NN model for all specified values of `n_neighbors`, identifying the value that yields the highest accuracy on the training dataset. The result, `grid_search`, contains the best hyperparameter configuration and corresponding performance metrics."
   ]
  },
  {
   "cell_type": "code",
   "execution_count": 10,
   "id": "f0e8d59a",
   "metadata": {},
   "outputs": [
    {
     "name": "stdout",
     "output_type": "stream",
     "text": [
      "{'n_neighbors': 23}\n"
     ]
    }
   ],
   "source": [
    "print(grid_search.best_params_)"
   ]
  },
  {
   "cell_type": "code",
   "execution_count": 11,
   "id": "5bf05571",
   "metadata": {},
   "outputs": [
    {
     "name": "stdout",
     "output_type": "stream",
     "text": [
      "Accuracy for our training dataset with tuning is : 93.42%\n"
     ]
    }
   ],
   "source": [
    "# Accuracy of grid-search \n",
    "accuracy = grid_search.best_score_ *100\n",
    "print(\"Accuracy for our training dataset with tuning is : {:.2f}%\".format(accuracy) )"
   ]
  },
  {
   "cell_type": "markdown",
   "id": "4217dc4f",
   "metadata": {},
   "source": [
    "This code calculates and displays the accuracy of the k-Nearest Neighbors (k-NN) model after hyperparameter tuning using grid search. The `grid_search.best_score_` attribute retrieves the highest accuracy achieved during the cross-validation process. This value is multiplied by 100 to express it as a percentage. The formatted string then prints the accuracy to two decimal places, providing a clear and concise summary of the model's performance after tuning. This accuracy represents how well the model, with the optimal number of neighbors (`n_neighbors`), performed during the training phase on the cross-validated dataset."
   ]
  },
  {
   "cell_type": "code",
   "execution_count": 12,
   "id": "b6ee5a0a",
   "metadata": {},
   "outputs": [
    {
     "name": "stdout",
     "output_type": "stream",
     "text": [
      "Accuracy for our testing dataset with tuning is : 94.00%\n"
     ]
    }
   ],
   "source": [
    "# Testing the Test Value for Accuracy \n",
    "\n",
    "knn = KNeighborsClassifier(n_neighbors=26)\n",
    "\n",
    "knn.fit(X, y)\n",
    "\n",
    "y_test_hat=knn.predict(X_test) \n",
    "\n",
    "test_accuracy=accuracy_score(y_test,y_test_hat)*100\n",
    "\n",
    "print(\"Accuracy for our testing dataset with tuning is : {:.2f}%\".format(test_accuracy) )"
   ]
  },
  {
   "cell_type": "markdown",
   "id": "dc1fd561",
   "metadata": {},
   "source": [
    "This code implements and evaluates a k-Nearest Neighbors (k-NN) classification model after selecting the optimal number of neighbors (`n_neighbors=26`) based on prior tuning. The model is initialized with the chosen hyperparameter and trained on the full dataset (`X` and `y`) using the `fit` method. Once trained, the model predicts the outcomes (`y_test_hat`) for the test dataset (`X_test`) using the `predict` method.\n",
    "\n",
    "The accuracy of the predictions is calculated by comparing the predicted values (`y_test_hat`) to the actual test labels (`y_test`) using the `accuracy_score` function. This accuracy is then multiplied by 100 to express it as a percentage. Finally, the accuracy score is printed, showing that the model achieved an impressive **94% accuracy** on the test dataset, demonstrating its strong performance and effectiveness in predicting heart disease based on the input features."
   ]
  },
  {
   "cell_type": "code",
   "execution_count": 50,
   "id": "3cd648c8",
   "metadata": {},
   "outputs": [
    {
     "data": {
      "image/png": "[encoded data removed]",
      "text/plain": [
       "<Figure size 720x432 with 1 Axes>"
      ]
     },
     "metadata": {
      "needs_background": "light"
     },
     "output_type": "display_data"
    }
   ],
   "source": [
    "# Testing using the X_train for Elbow Method \n",
    "import warnings\n",
    "warnings.filterwarnings('ignore')\n",
    "distortions = []\n",
    "K = range(1,12)\n",
    "for k in K:\n",
    "    kmeanModel = KMeans(n_clusters=k)\n",
    "    kmeanModel.fit(x)\n",
    "    distortions.append(kmeanModel.inertia_)\n",
    "    \n",
    "    \n",
    "# Plotting to see the elbow in the data to determine thw best cluster \n",
    "\n",
    "plt.figure(figsize=(10,6))\n",
    "plt.plot(K, distortions, 'bx-')\n",
    "plt.xlabel('k')\n",
    "plt.ylabel('Distortion')\n",
    "plt.title('The Elbow Method showing the optimal k')\n",
    "plt.show()\n"
   ]
  },
  {
   "cell_type": "markdown",
   "id": "cc73914d",
   "metadata": {},
   "source": [
    "This code implements the Elbow Method to determine the optimal number of clusters (`k`) for a K-Means clustering model. The Elbow Method is a commonly used technique to assess how the variance (or distortion) within clusters changes as the number of clusters increases.\n",
    "\n",
    "The code first suppresses warnings to avoid unnecessary output during execution. It then initializes an empty list, `distortions`, to store the within-cluster sum of squares (also known as inertia) for each value of `k`. A range of potential cluster numbers, from 1 to 11, is defined in `K`. For each value of `k`, a K-Means model is instantiated and fitted to the dataset `x`. The resulting distortion (a measure of how tightly the data points fit their assigned cluster) is appended to the `distortions` list.\n",
    "\n",
    "After calculating distortions for all `k` values, a plot is generated to visualize the results. The x-axis represents the number of clusters (`k`), while the y-axis represents the distortion. The plot uses the \"Elbow Method\" to identify the point where the distortion decreases sharply before leveling off—this point, resembling an \"elbow,\" indicates the optimal number of clusters for the dataset. This visualization helps to choose the best `k` value for effective clustering."
   ]
  },
  {
   "cell_type": "code",
   "execution_count": 20,
   "id": "d6af19ab",
   "metadata": {},
   "outputs": [
    {
     "data": {
      "text/plain": [
       "KMeans(n_clusters=2)"
      ]
     },
     "execution_count": 20,
     "metadata": {},
     "output_type": "execute_result"
    }
   ],
   "source": [
    "kmeanModel = KMeans(n_clusters=2)\n",
    "kmeanModel.fit(x)\n"
   ]
  },
  {
   "cell_type": "markdown",
   "id": "603a2ce7",
   "metadata": {},
   "source": [
    "# 2 "
   ]
  },
  {
   "cell_type": "markdown",
   "id": "6214d9c8",
   "metadata": {},
   "source": [
    "Question :Is there any difference between the k-value identified earlier by the elbow method\n",
    "and the one you have identified with the grid search\n",
    "\n",
    "Answer: I notice that KNN-Neighbor and Elbow gave similar results in the  model for the accurate score. We see that when performing the Elbow Method the clustering can only can be performed on 2 clusters which shows the margin error or data has been reduced to help with accuracy. Also, for the KNN-Nieghbor model we see the same result with the accuracy being 93.42%.   "
   ]
  },
  {
   "cell_type": "markdown",
   "id": "7da1dded",
   "metadata": {},
   "source": [
    "# 3"
   ]
  },
  {
   "cell_type": "code",
   "execution_count": 33,
   "id": "8cd906c5",
   "metadata": {},
   "outputs": [
    {
     "name": "stdout",
     "output_type": "stream",
     "text": [
      "[[305  23]\n",
      " [ 22 250]]\n"
     ]
    },
    {
     "data": {
      "image/png": "[encoded data removed]",
      "text/plain": [
       "<Figure size 432x288 with 2 Axes>"
      ]
     },
     "metadata": {
      "needs_background": "light"
     },
     "output_type": "display_data"
    }
   ],
   "source": [
    "# Confusion Matrix & Evaulation metrics  \n",
    "plot_confusion_matrix(grid,X_test, y_test,values_format='g' )\n",
    "\n",
    "# Confusion_matrix funnction a matrix containing the summary of predictions\n",
    "print(confusion_matrix(y_test, predictions))"
   ]
  },
  {
   "cell_type": "markdown",
   "id": "c9f61610",
   "metadata": {},
   "source": [
    "This code evaluates the performance of a trained classification model using a confusion matrix, which provides a detailed summary of the model's predictions compared to the actual outcomes. The `plot_confusion_matrix` function is used to visualize the confusion matrix for the test dataset (`X_test` and `y_test`), displaying the results in a grid format (`values_format='g'`) for easier interpretation. The confusion matrix itself is printed using the `confusion_matrix` function, showing the numerical breakdown of predictions.\n",
    "\n",
    "The confusion matrix produced is:  \n",
    "```\n",
    "[[305  23]  \n",
    " [ 22 250]]\n",
    "```\n",
    "This matrix reveals the following details:  \n",
    "- True Positives (305): The number of correctly predicted positive cases (e.g., patients with heart disease).  \n",
    "- True Negatives (250): The number of correctly predicted negative cases (e.g., patients without heart disease).  \n",
    "- False Positives (23): The number of cases incorrectly predicted as positive (e.g., predicted as having heart disease but do not).  \n",
    "- False Negatives (22): The number of cases incorrectly predicted as negative (e.g., predicted as not having heart disease but do).  \n",
    "\n",
    "The confusion matrix is a foundational tool for deriving evaluation metrics such as accuracy, precision, recall, and F1-score, providing a comprehensive understanding of the model's performance. This specific result indicates the model is generally accurate, with relatively few misclassifications."
   ]
  },
  {
   "cell_type": "code",
   "execution_count": 43,
   "id": "fe6f9b01",
   "metadata": {},
   "outputs": [
    {
     "name": "stdout",
     "output_type": "stream",
     "text": [
      "classification report:\n",
      "               precision    recall  f1-score   support\n",
      "\n",
      "           0       0.93      0.93      0.93       328\n",
      "           1       0.92      0.92      0.92       272\n",
      "\n",
      "    accuracy                           0.93       600\n",
      "   macro avg       0.92      0.92      0.92       600\n",
      "weighted avg       0.93      0.93      0.93       600\n",
      "\n"
     ]
    }
   ],
   "source": [
    "print(\"classification report:\\n\",classification_report(y_test, predictions))"
   ]
  },
  {
   "cell_type": "markdown",
   "id": "0158fc29",
   "metadata": {},
   "source": [
    "The provided code outputs a classification report, which summarizes the performance of a classification model on the test dataset. The report provides metrics for each class (0 and 1), as well as overall metrics for the entire dataset. Here's an interpretation of the classification report:\n",
    "\n",
    "Class-Specific Metrics:\n",
    "\n",
    "For class 0 (e.g., \"No Heart Disease\"):\n",
    "Precision: 0.93, indicating that 93% of instances predicted as class 0 are correctly classified.\n",
    "Recall: 0.93, meaning the model correctly identifies 93% of the actual instances of class 0.\n",
    "F1-Score: 0.93, the harmonic mean of precision and recall, reflecting balanced performance.\n",
    "For class 1 (e.g., \"Heart Disease\"):\n",
    "Precision: 0.92, meaning 92% of instances predicted as class 1 are correct.\n",
    "Recall: 0.92, showing the model identifies 92% of actual class 1 instances.\n",
    "F1-Score: 0.92, indicating strong performance for this class.\n",
    "Overall Metrics:\n",
    "\n",
    "Accuracy: 0.93, meaning the model correctly predicts 93% of all instances in the test dataset.\n",
    "Macro Average: 0.92 for precision, recall, and F1-score, calculated as the unweighted mean of metrics across classes.\n",
    "Weighted Average: 0.93 for precision, recall, and F1-score, accounting for class imbalance by weighting metrics by the number of instances in each class."
   ]
  },
  {
   "cell_type": "markdown",
   "id": "32ef513c",
   "metadata": {},
   "source": [
    "# 4 "
   ]
  },
  {
   "cell_type": "code",
   "execution_count": 45,
   "id": "139767fd",
   "metadata": {},
   "outputs": [
    {
     "data": {
      "text/html": [
       "<div>\n",
       "<style scoped>\n",
       "    .dataframe tbody tr th:only-of-type {\n",
       "        vertical-align: middle;\n",
       "    }\n",
       "\n",
       "    .dataframe tbody tr th {\n",
       "        vertical-align: top;\n",
       "    }\n",
       "\n",
       "    .dataframe thead th {\n",
       "        text-align: right;\n",
       "    }\n",
       "</style>\n",
       "<table border=\"1\" class=\"dataframe\">\n",
       "  <thead>\n",
       "    <tr style=\"text-align: right;\">\n",
       "      <th></th>\n",
       "      <th>Gene One</th>\n",
       "      <th>Gene Two</th>\n",
       "    </tr>\n",
       "  </thead>\n",
       "  <tbody>\n",
       "    <tr>\n",
       "      <th>0</th>\n",
       "      <td>4.3</td>\n",
       "      <td>4.0</td>\n",
       "    </tr>\n",
       "    <tr>\n",
       "      <th>1</th>\n",
       "      <td>2.7</td>\n",
       "      <td>6.5</td>\n",
       "    </tr>\n",
       "    <tr>\n",
       "      <th>2</th>\n",
       "      <td>1.7</td>\n",
       "      <td>4.0</td>\n",
       "    </tr>\n",
       "    <tr>\n",
       "      <th>3</th>\n",
       "      <td>3.1</td>\n",
       "      <td>6.2</td>\n",
       "    </tr>\n",
       "    <tr>\n",
       "      <th>4</th>\n",
       "      <td>7.7</td>\n",
       "      <td>3.4</td>\n",
       "    </tr>\n",
       "    <tr>\n",
       "      <th>5</th>\n",
       "      <td>4.4</td>\n",
       "      <td>7.6</td>\n",
       "    </tr>\n",
       "    <tr>\n",
       "      <th>6</th>\n",
       "      <td>3.1</td>\n",
       "      <td>6.8</td>\n",
       "    </tr>\n",
       "    <tr>\n",
       "      <th>7</th>\n",
       "      <td>6.3</td>\n",
       "      <td>4.9</td>\n",
       "    </tr>\n",
       "    <tr>\n",
       "      <th>8</th>\n",
       "      <td>5.5</td>\n",
       "      <td>8.6</td>\n",
       "    </tr>\n",
       "    <tr>\n",
       "      <th>9</th>\n",
       "      <td>7.8</td>\n",
       "      <td>4.4</td>\n",
       "    </tr>\n",
       "  </tbody>\n",
       "</table>\n",
       "</div>"
      ],
      "text/plain": [
       "   Gene One  Gene Two\n",
       "0       4.3       4.0\n",
       "1       2.7       6.5\n",
       "2       1.7       4.0\n",
       "3       3.1       6.2\n",
       "4       7.7       3.4\n",
       "5       4.4       7.6\n",
       "6       3.1       6.8\n",
       "7       6.3       4.9\n",
       "8       5.5       8.6\n",
       "9       7.8       4.4"
      ]
     },
     "execution_count": 45,
     "metadata": {},
     "output_type": "execute_result"
    }
   ],
   "source": [
    "x_1 =  {'Gene One': [4.30, 2.70, 1.70, 3.10, 7.70, 4.40, 3.10, 6.30, 5.50, 7.80],\n",
    "        'Gene Two': [4.00, 6.50, 4.00, 6.20, 3.40, 7.60, 6.80, 4.90, 8.60, 4.40 ]}\n",
    "  \n",
    "# Create DataFrame\n",
    "df = pd.DataFrame(x_1)\n",
    "  \n",
    "# Print the output.\n",
    "df"
   ]
  },
  {
   "cell_type": "markdown",
   "id": "558564b4",
   "metadata": {},
   "source": [
    "This code creates a DataFrame using genetic expression data from two genes, Gene One and Gene Two. Each gene is represented as a list of numerical values, which likely correspond to their measured expression levels in a set of patients. Here's how it works and how it can help make predictions for cancer and non-cancer patients:\n",
    "\n",
    "Explanation of Code:\n",
    "Data Definition:\n",
    "The dictionary x_1 contains two keys (Gene One and Gene Two), where each key has a list of values representing the expression levels of the respective genes across 10 samples (patients or observations).\n",
    "\n",
    "Creating the DataFrame:\n",
    "The pd.DataFrame function from the pandas library converts the dictionary into a tabular format, with the genes as columns and each row representing the expression levels for a specific sample.\n",
    "\n",
    "Output:\n",
    "The DataFrame organizes the data in a structured way, making it easy to visualize and process further. For example, the printed DataFrame might look like this:\n",
    "\n",
    "Gene One\tGene Two\n",
    "0\t4.30\t4.00\n",
    "1\t2.70\t6.50\n",
    "2\t1.70\t4.00\n",
    "...\t...\t...\n",
    "Application in Cancer and Non-Cancer Predictions:\n",
    "Feature Representation:\n",
    "Gene expression levels serve as features for building predictive models. Patterns in the expression levels of genes can be indicative of cancerous or non-cancerous states.\n",
    "\n",
    "Training Machine Learning Models:\n",
    "\n",
    "This structured DataFrame can be used as input for training machine learning models, such as logistic regression, decision trees, or neural networks.\n",
    "By associating these expression levels with labels (e.g., Cancer or Non-Cancer), a model can learn to differentiate between the two classes based on patterns in the data.\n",
    "Biomarker Analysis:\n",
    "\n",
    "The data may also help identify specific genes (or combinations of genes) that are significant predictors of cancer, aiding in biomarker discovery.\n",
    "Predictions on New Data:\n",
    "Once trained, the model can predict the likelihood of a patient being diagnosed with cancer by analyzing the gene expression levels provided in similar DataFrame formats."
   ]
  },
  {
   "cell_type": "code",
   "execution_count": 47,
   "id": "771301cd",
   "metadata": {},
   "outputs": [
    {
     "name": "stdout",
     "output_type": "stream",
     "text": [
      "Predict=1\n",
      "Predict=0\n",
      "Predict=0\n",
      "Predict=0\n",
      "Predict=1\n",
      "Predict=0\n",
      "Predict=0\n",
      "Predict=0\n",
      "Predict=0\n",
      "Predict=1\n"
     ]
    }
   ],
   "source": [
    "predict = knn.predict(df)\n",
    "for i in range (len(df)):\n",
    "    print(\"Predict=%s\" % (predict[i]))"
   ]
  },
  {
   "cell_type": "markdown",
   "id": "90fe26ac",
   "metadata": {},
   "source": [
    "\n",
    "The provided code uses a trained k-Nearest Neighbors (k-NN) model (knn) to make predictions on a new dataset, df, which presumably contains the features of patients (such as various medical attributes) that need to be classified as either \"cancer\" or \"non-cancer\" patients.\n",
    "\n",
    "Prediction:\n",
    "The knn.predict(df) function generates predictions for each row (patient) in the dataset df. The predict array will contain the predicted class for each patient, where, for example, a value of 0 might indicate \"non-cancer\" and 1 might indicate \"cancer.\" These predictions are made based on the feature data in df and the trained k-NN model.\n",
    "\n",
    "Iterating through the predictions:\n",
    "The for loop iterates over each instance in the df dataset. The len(df) function returns the number of patients (rows) in the dataset. Inside the loop, it prints the prediction for each patient using the format Predict=%s, where %s is replaced with the predicted class value for that patient (either 0 or 1).\n",
    "\n",
    "How It Helps in Making Predictions for Cancer and Non-Cancer Patients:\n",
    "Cancer Classification: The model will predict whether each patient in the dataset is likely to have cancer or not, based on the features provided in df. This is useful in healthcare settings where quick and accurate classification is crucial for determining the next steps in patient care, such as further testing or treatment.\n",
    "\n",
    "Real-Time Application: By printing the predictions for each patient in the dataset, the model's output can be easily reviewed or used in downstream applications. This approach allows healthcare professionals to see the classification results for multiple patients at once, helping in prioritizing patients for further examination or intervention."
   ]
  },
  {
   "cell_type": "code",
   "execution_count": 49,
   "id": "be972320",
   "metadata": {},
   "outputs": [
    {
     "data": {
      "text/html": [
       "<div>\n",
       "<style scoped>\n",
       "    .dataframe tbody tr th:only-of-type {\n",
       "        vertical-align: middle;\n",
       "    }\n",
       "\n",
       "    .dataframe tbody tr th {\n",
       "        vertical-align: top;\n",
       "    }\n",
       "\n",
       "    .dataframe thead th {\n",
       "        text-align: right;\n",
       "    }\n",
       "</style>\n",
       "<table border=\"1\" class=\"dataframe\">\n",
       "  <thead>\n",
       "    <tr style=\"text-align: right;\">\n",
       "      <th></th>\n",
       "      <th>Gene One</th>\n",
       "      <th>Gene Two</th>\n",
       "      <th>Predictions</th>\n",
       "    </tr>\n",
       "  </thead>\n",
       "  <tbody>\n",
       "    <tr>\n",
       "      <th>0</th>\n",
       "      <td>4.3</td>\n",
       "      <td>4.0</td>\n",
       "      <td>1</td>\n",
       "    </tr>\n",
       "    <tr>\n",
       "      <th>1</th>\n",
       "      <td>2.7</td>\n",
       "      <td>6.5</td>\n",
       "      <td>0</td>\n",
       "    </tr>\n",
       "    <tr>\n",
       "      <th>2</th>\n",
       "      <td>1.7</td>\n",
       "      <td>4.0</td>\n",
       "      <td>0</td>\n",
       "    </tr>\n",
       "    <tr>\n",
       "      <th>3</th>\n",
       "      <td>3.1</td>\n",
       "      <td>6.2</td>\n",
       "      <td>0</td>\n",
       "    </tr>\n",
       "    <tr>\n",
       "      <th>4</th>\n",
       "      <td>7.7</td>\n",
       "      <td>3.4</td>\n",
       "      <td>1</td>\n",
       "    </tr>\n",
       "    <tr>\n",
       "      <th>5</th>\n",
       "      <td>4.4</td>\n",
       "      <td>7.6</td>\n",
       "      <td>0</td>\n",
       "    </tr>\n",
       "    <tr>\n",
       "      <th>6</th>\n",
       "      <td>3.1</td>\n",
       "      <td>6.8</td>\n",
       "      <td>0</td>\n",
       "    </tr>\n",
       "    <tr>\n",
       "      <th>7</th>\n",
       "      <td>6.3</td>\n",
       "      <td>4.9</td>\n",
       "      <td>0</td>\n",
       "    </tr>\n",
       "    <tr>\n",
       "      <th>8</th>\n",
       "      <td>5.5</td>\n",
       "      <td>8.6</td>\n",
       "      <td>0</td>\n",
       "    </tr>\n",
       "    <tr>\n",
       "      <th>9</th>\n",
       "      <td>7.8</td>\n",
       "      <td>4.4</td>\n",
       "      <td>1</td>\n",
       "    </tr>\n",
       "  </tbody>\n",
       "</table>\n",
       "</div>"
      ],
      "text/plain": [
       "   Gene One  Gene Two  Predictions\n",
       "0       4.3       4.0            1\n",
       "1       2.7       6.5            0\n",
       "2       1.7       4.0            0\n",
       "3       3.1       6.2            0\n",
       "4       7.7       3.4            1\n",
       "5       4.4       7.6            0\n",
       "6       3.1       6.8            0\n",
       "7       6.3       4.9            0\n",
       "8       5.5       8.6            0\n",
       "9       7.8       4.4            1"
      ]
     },
     "execution_count": 49,
     "metadata": {},
     "output_type": "execute_result"
    }
   ],
   "source": [
    "# Building Dataframe adding Predicted values \n",
    "x_2 =  {'Gene One': [4.30, 2.70, 1.70, 3.10, 7.70, 4.40, 3.10, 6.30, 5.50, 7.80],\n",
    "        'Gene Two': [4.00, 6.50, 4.00, 6.20, 3.40, 7.60, 6.80, 4.90, 8.60, 4.40 ],\n",
    "        'Predictions': [1, 0, 0, 0, 1, 0, 0, 0, 0, 1]}\n",
    "  \n",
    "# Create DataFrame\n",
    "df_1 = pd.DataFrame(x_2)\n",
    "  \n",
    "# Print the output.\n",
    "df_1"
   ]
  },
  {
   "cell_type": "markdown",
   "id": "7d04f157",
   "metadata": {},
   "source": [
    "This code creates a pandas DataFrame (`df_1`) that combines gene expression data and predicted outcomes for a set of cancer patients. The dataset consists of two gene expression values, \"Gene One\" and \"Gene Two,\" along with predicted outcomes stored in the \"Predictions\" column.\n",
    "\n",
    "1. **Gene Data**:  \n",
    "   - The values for \"Gene One\" and \"Gene Two\" represent gene expression levels for each patient, which could indicate biological markers associated with cancer. These are numeric values that likely reflect some biological characteristic measured for each individual.\n",
    "\n",
    "2. **Predictions**:  \n",
    "   - The \"Predictions\" column contains binary values, where `1` likely indicates the patient is predicted to have cancer, and `0` indicates the patient is predicted to be cancer-free. This is the output of a machine learning classification model (such as a logistic regression or decision tree model).\n",
    "\n",
    "3. **DataFrame Creation**:  \n",
    "   - The data for \"Gene One,\" \"Gene Two,\" and \"Predictions\" is structured into a dictionary (`x_2`) and then used to create a pandas DataFrame (`df_1`). This DataFrame is printed out, showing the gene expression values along with their corresponding cancer predictions for each patient.\n",
    "\n",
    "The resulting DataFrame (`df_1`) looks like this:\n",
    "\n",
    "| Gene One | Gene Two | Predictions |\n",
    "|----------|----------|-------------|\n",
    "| 4.30     | 4.00     | 1           |\n",
    "| 2.70     | 6.50     | 0           |\n",
    "| 1.70     | 4.00     | 0           |\n",
    "| 3.10     | 6.20     | 0           |\n",
    "| 7.70     | 3.40     | 1           |\n",
    "| 4.40     | 7.60     | 0           |\n",
    "| 3.10     | 6.80     | 0           |\n",
    "| 6.30     | 4.90     | 0           |\n",
    "| 5.50     | 8.60     | 0           |\n",
    "| 7.80     | 4.40     | 1           |\n",
    "\n",
    "In this DataFrame, the predictions allow easy identification of which patients are predicted to have cancer (`1`) and which are not (`0`), alongside their corresponding gene expression levels."
   ]
  },
  {
   "cell_type": "code",
   "execution_count": 52,
   "id": "3b9ef578",
   "metadata": {},
   "outputs": [
    {
     "name": "stdout",
     "output_type": "stream",
     "text": [
      "Knn-nearest is:  1.0\n"
     ]
    }
   ],
   "source": [
    "# Checking the Accuracy of the dataset : df_1 \n",
    "\n",
    "# Training Dataset for X & y value \n",
    "\n",
    "X = df_1.drop('Predictions', axis=1)\n",
    "\n",
    "y = df_1.Predictions \n",
    "\n",
    "X_train, X_test, y_train, y_test = train_test_split(X, y, test_size = 0.2, random_state=42)\n",
    "  \n",
    "knn_1 = KNeighborsClassifier(n_neighbors=7)\n",
    "\n",
    "# Using the Grid Search CV for Accuracy \n",
    "\n",
    "knn_1 = KNeighborsClassifier(n_neighbors=3)\n",
    "\n",
    "# Train the model using the training sets for Knn-modeling \n",
    "knn_1.fit(X_train, y_train)\n",
    "\n",
    "# Calculate the accuracy of the model\n",
    "print(\"Knn-nearest is: \",knn_1.score(X_test, y_test))\n",
    "\n",
    "# Here X_test, y_test are the test data points\n",
    "predictions = knn_1.predict(X_test)"
   ]
  },
  {
   "cell_type": "markdown",
   "id": "889cd3e3",
   "metadata": {},
   "source": [
    "The code begins by preparing the dataset for machine learning. It separates the features (`X`) and the target variable (`y`) by dropping the `Predictions` column from the dataset (`df_1`) and assigning it to the target variable. The dataset is then split into training and testing sets, with 80% of the data used for training and 20% reserved for testing. This split is performed using the `train_test_split` function, which ensures that the model can be evaluated on unseen data.\n",
    "\n",
    "Next, a k-Nearest Neighbors (k-NN) classifier model is initialized with `n_neighbors=7`. However, this value is later overridden to `n_neighbors=3` before fitting the model. The `knn_1.fit()` method is used to train the model using the training data. Once the model is trained, its accuracy on the test set is calculated using the `score()` method, which returns the proportion of correct predictions (accuracy) on the `X_test` data compared to the actual `y_test` values.\n",
    "\n",
    "The model's predictions are stored in the `predictions` variable for further analysis or evaluation. In this case, the accuracy is printed, and the value is expected to be 1.0, indicating a perfect prediction rate on the test data. However, achieving 1.0 accuracy could suggest that the model may have overfitted to the training data or that the dataset is simple or not sufficiently diverse.\n",
    "\n",
    "### Conclusion:\n",
    "The k-NN model achieved perfect accuracy (1.0) on the test set, which suggests that the model was able to correctly classify all test data points. While this high accuracy may seem promising, it’s important to investigate whether the model is truly generalizing well or if it has overfitted the data. Further steps should include cross-validation, hyperparameter tuning, and additional testing with more complex datasets to ensure the model's robustness. The performance metrics should also be examined in terms of precision, recall, and F1-score for a more comprehensive evaluation."
   ]
  },
  {
   "cell_type": "code",
   "execution_count": null,
   "id": "d0ce8b4c",
   "metadata": {},
   "outputs": [],
   "source": []
  }
 ],
 "metadata": {
  "kernelspec": {
   "display_name": "Python 3",
   "language": "python",
   "name": "python3"
  },
  "language_info": {
   "codemirror_mode": {
    "name": "ipython",
    "version": 3
   },
   "file_extension": ".py",
   "mimetype": "text/x-python",
   "name": "python",
   "nbconvert_exporter": "python",
   "pygments_lexer": "ipython3",
   "version": "3.8.8"
  }
 },
 "nbformat": 4,
 "nbformat_minor": 5
}
